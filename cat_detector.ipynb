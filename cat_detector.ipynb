{
 "cells": [
  {
   "cell_type": "code",
   "execution_count": 1,
   "metadata": {},
   "outputs": [
    {
     "data": {
      "application/javascript": [
       "IPython.notebook.set_autosave_interval(0)"
      ]
     },
     "metadata": {},
     "output_type": "display_data"
    },
    {
     "name": "stdout",
     "output_type": "stream",
     "text": [
      "Autosave disabled\n"
     ]
    },
    {
     "name": "stderr",
     "output_type": "stream",
     "text": [
      "Using TensorFlow backend.\n"
     ]
    },
    {
     "data": {
      "application/javascript": [
       "IPython.notebook.set_autosave_interval(60000)"
      ]
     },
     "metadata": {},
     "output_type": "display_data"
    },
    {
     "name": "stdout",
     "output_type": "stream",
     "text": [
      "Autosaving every 60 seconds\n"
     ]
    }
   ],
   "source": [
    "%matplotlib inline\n",
    "%autosave 0\n",
    "from keras.applications.resnet50 import ResNet50\n",
    "from keras.preprocessing import image\n",
    "from keras.applications.resnet50 import preprocess_input, decode_predictions\n",
    "import numpy as np\n",
    "import matplotlib.pyplot as plt\n",
    "import cv2\n",
    "import simpleaudio as sa\n",
    "\n",
    "model = ResNet50(weights='imagenet')\n",
    "%autosave 60"
   ]
  },
  {
   "cell_type": "code",
   "execution_count": 5,
   "metadata": {},
   "outputs": [],
   "source": [
    "def crop_center(img,cropx,cropy):\n",
    "    \"\"\"Crop to the center (cropx, cropy) pixels of a multi-channel image.\"\"\"\n",
    "    y,x,_ = img.shape\n",
    "    startx = x//2-(cropx//2)\n",
    "    starty = y//2-(cropy//2)    \n",
    "    return img[starty:starty+cropy,startx:startx+cropx,:]"
   ]
  },
  {
   "cell_type": "code",
   "execution_count": 34,
   "metadata": {},
   "outputs": [],
   "source": [
    "def meow():\n",
    "    \"\"\"Play a cat meow sound.\"\"\"\n",
    "    wave_obj = sa.WaveObject.from_wave_file(\"meow.wav\")\n",
    "    play_obj = wave_obj.play()\n",
    "    play_obj.wait_done()\n",
    "\n",
    "# Test\n",
    "meow()"
   ]
  },
  {
   "cell_type": "code",
   "execution_count": 38,
   "metadata": {},
   "outputs": [
    {
     "data": {
      "text/plain": [
       "-1"
      ]
     },
     "execution_count": 38,
     "metadata": {},
     "output_type": "execute_result"
    }
   ],
   "source": [
    "# setup capture\n",
    "camera = cv2.VideoCapture(0)\n",
    "\n",
    "# reduce frame size to speed it up\n",
    "w = 256\n",
    "h = 256\n",
    "c = 3\n",
    "camera.set(cv2.CAP_PROP_FRAME_WIDTH, w) \n",
    "camera.set(cv2.CAP_PROP_FRAME_HEIGHT, h)\n",
    "\n",
    "CAT_LABEL = 'tabby'\n",
    "\n",
    "# capture loop\n",
    "while True:\n",
    "    # get frame\n",
    "    ret, frame = camera.read()\n",
    "        \n",
    "    # mirror the frame (my camera mirrors by default)\n",
    "    frame = cv2.flip(frame, 1)\n",
    "    \n",
    "    # Get a 224x224 np array by cropping into the center of the frame\n",
    "    x = np.asarray(frame[:,:], dtype='d')\n",
    "    x = crop_center(x, 224, 224)\n",
    "    \n",
    "    # Preprocess the array\n",
    "    x = np.expand_dims(x, axis=0)\n",
    "    x = preprocess_input(x)\n",
    "\n",
    "    # Make predictions\n",
    "    preds = model.predict(x)\n",
    "    \n",
    "    # decode the results into a list of tuples (class, description, probability)\n",
    "    # (one such list for each sample in the batch)\n",
    "    top_three = decode_predictions(preds, top=3)[0]\n",
    "    # print('Predicted:', top_three)\n",
    "    \n",
    "    # meow if cat detected\n",
    "    if CAT_LABEL in [a[1] for a in top_three]:\n",
    "        meow()\n",
    "        \n",
    "    # Show frame\n",
    "    cv2.imshow('frame', frame)\n",
    "    \n",
    "    # Get key input\n",
    "    k = cv2.waitKeyEx(250)\n",
    "    \n",
    "    # exit on ESC press\n",
    "    if k == 27:\n",
    "        break\n",
    "    # p to print a video still in the notebook    \n",
    "    elif k == 112:\n",
    "        imshow(frame)\n",
    "    elif k >= 0:\n",
    "        print(k)\n",
    "    \n",
    "# clean up\n",
    "cv2.destroyAllWindows()\n",
    "camera.release()\n",
    "cv2.waitKey(1) # extra waitKey sometimes needed to close camera window"
   ]
  }
 ],
 "metadata": {
  "kernelspec": {
   "display_name": "Python 3",
   "language": "python",
   "name": "python3"
  },
  "language_info": {
   "codemirror_mode": {
    "name": "ipython",
    "version": 3
   },
   "file_extension": ".py",
   "mimetype": "text/x-python",
   "name": "python",
   "nbconvert_exporter": "python",
   "pygments_lexer": "ipython3",
   "version": "3.5.2"
  }
 },
 "nbformat": 4,
 "nbformat_minor": 2
}
